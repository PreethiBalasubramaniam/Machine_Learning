{
  "nbformat": 4,
  "nbformat_minor": 0,
  "metadata": {
    "colab": {
      "name": "PE06Classification-TensorFlow Keras Sequential API.ipynb",
      "provenance": []
    },
    "kernelspec": {
      "display_name": "Python 3",
      "name": "python3"
    },
    "language_info": {
      "name": "python"
    }
  },
  "cells": [
    {
      "cell_type": "code",
      "metadata": {
        "id": "n4vNH3jRoVXz"
      },
      "source": [
        "import numpy as np # linear algebra\n",
        "import pandas as pd # data processing, CSV file I/O (e.g. pd.read_csv)\n",
        "import matplotlib.pyplot as plt\n",
        "from tensorflow.keras.datasets import mnist\n",
        "from tensorflow.keras.models import Sequential\n",
        "from tensorflow.keras.layers import Flatten, Dense\n",
        "%matplotlib inline"
      ],
      "execution_count": 3,
      "outputs": []
    },
    {
      "cell_type": "code",
      "metadata": {
        "id": "WpCKw5wUpji2",
        "colab": {
          "base_uri": "https://localhost:8080/",
          "height": 195
        },
        "outputId": "39b22ad2-1d8e-464d-d42b-5727ee80137b"
      },
      "source": [
        "data = pd.read_csv('penguins_cleaned_ds620.csv')\n",
        "data.head()"
      ],
      "execution_count": 14,
      "outputs": [
        {
          "output_type": "execute_result",
          "data": {
            "text/html": [
              "<div>\n",
              "<style scoped>\n",
              "    .dataframe tbody tr th:only-of-type {\n",
              "        vertical-align: middle;\n",
              "    }\n",
              "\n",
              "    .dataframe tbody tr th {\n",
              "        vertical-align: top;\n",
              "    }\n",
              "\n",
              "    .dataframe thead th {\n",
              "        text-align: right;\n",
              "    }\n",
              "</style>\n",
              "<table border=\"1\" class=\"dataframe\">\n",
              "  <thead>\n",
              "    <tr style=\"text-align: right;\">\n",
              "      <th></th>\n",
              "      <th>bill_length_mm</th>\n",
              "      <th>bill_depth_mm</th>\n",
              "      <th>flipper_length_mm</th>\n",
              "      <th>body_mass_g</th>\n",
              "      <th>species</th>\n",
              "    </tr>\n",
              "  </thead>\n",
              "  <tbody>\n",
              "    <tr>\n",
              "      <th>0</th>\n",
              "      <td>39.1</td>\n",
              "      <td>18.7</td>\n",
              "      <td>181</td>\n",
              "      <td>3750</td>\n",
              "      <td>0</td>\n",
              "    </tr>\n",
              "    <tr>\n",
              "      <th>1</th>\n",
              "      <td>39.5</td>\n",
              "      <td>17.4</td>\n",
              "      <td>186</td>\n",
              "      <td>3800</td>\n",
              "      <td>0</td>\n",
              "    </tr>\n",
              "    <tr>\n",
              "      <th>2</th>\n",
              "      <td>40.3</td>\n",
              "      <td>18.0</td>\n",
              "      <td>195</td>\n",
              "      <td>3250</td>\n",
              "      <td>0</td>\n",
              "    </tr>\n",
              "    <tr>\n",
              "      <th>3</th>\n",
              "      <td>36.7</td>\n",
              "      <td>19.3</td>\n",
              "      <td>193</td>\n",
              "      <td>3450</td>\n",
              "      <td>0</td>\n",
              "    </tr>\n",
              "    <tr>\n",
              "      <th>4</th>\n",
              "      <td>39.3</td>\n",
              "      <td>20.6</td>\n",
              "      <td>190</td>\n",
              "      <td>3650</td>\n",
              "      <td>0</td>\n",
              "    </tr>\n",
              "  </tbody>\n",
              "</table>\n",
              "</div>"
            ],
            "text/plain": [
              "   bill_length_mm  bill_depth_mm  flipper_length_mm  body_mass_g  species\n",
              "0            39.1           18.7                181         3750        0\n",
              "1            39.5           17.4                186         3800        0\n",
              "2            40.3           18.0                195         3250        0\n",
              "3            36.7           19.3                193         3450        0\n",
              "4            39.3           20.6                190         3650        0"
            ]
          },
          "metadata": {
            "tags": []
          },
          "execution_count": 14
        }
      ]
    },
    {
      "cell_type": "code",
      "metadata": {
        "id": "taUlU_ympxLk",
        "colab": {
          "base_uri": "https://localhost:8080/"
        },
        "outputId": "373bd698-bc47-407b-fcab-664391ec4dd5"
      },
      "source": [
        "# Question #1: How many features are there is the dataset? Show the code that extracts this number\n",
        "index = data.index\n",
        "number_of_rows = len(index)\n",
        "print(number_of_rows)"
      ],
      "execution_count": 51,
      "outputs": [
        {
          "output_type": "stream",
          "text": [
            "333\n"
          ],
          "name": "stdout"
        }
      ]
    },
    {
      "cell_type": "code",
      "metadata": {
        "colab": {
          "base_uri": "https://localhost:8080/"
        },
        "id": "9mAlLOiOCvj_",
        "outputId": "de2be2da-f1bf-49af-94e4-966d36703e51"
      },
      "source": [
        "# Question #2: What are the features is the dataset? Show the code that lists the feature names\n",
        "data.columns"
      ],
      "execution_count": 52,
      "outputs": [
        {
          "output_type": "execute_result",
          "data": {
            "text/plain": [
              "Index(['bill_length_mm', 'bill_depth_mm', 'flipper_length_mm', 'body_mass_g',\n",
              "       'species'],\n",
              "      dtype='object')"
            ]
          },
          "metadata": {
            "tags": []
          },
          "execution_count": 52
        }
      ]
    },
    {
      "cell_type": "code",
      "metadata": {
        "id": "S-KzENbtCyK-",
        "colab": {
          "base_uri": "https://localhost:8080/"
        },
        "outputId": "a133ac43-4a6d-4555-a455-db3ca7159f4f"
      },
      "source": [
        "# Question #3: How many instances are there is the dataset? Show the code that extracts this number\n",
        "print(len(data.columns))"
      ],
      "execution_count": 53,
      "outputs": [
        {
          "output_type": "stream",
          "text": [
            "5\n"
          ],
          "name": "stdout"
        }
      ]
    },
    {
      "cell_type": "code",
      "metadata": {
        "id": "Ow_AtgM9tlFI"
      },
      "source": [
        "X = data.drop('species', axis = 1)\n",
        "y = data['species']"
      ],
      "execution_count": 18,
      "outputs": []
    },
    {
      "cell_type": "code",
      "metadata": {
        "id": "0jtAJbzHuUUF"
      },
      "source": [
        "from sklearn.preprocessing import StandardScaler\n",
        "scaler = StandardScaler()\n",
        "X =StandardScaler().fit_transform(X)"
      ],
      "execution_count": 19,
      "outputs": []
    },
    {
      "cell_type": "code",
      "metadata": {
        "id": "iwfLkZdyubW5"
      },
      "source": [
        "# Let's split the dataset into training and testing sets\n",
        "\n",
        "# Question #6: complete the code below to split X and y into training and testing sets with 20% testing and a randomSeed=42\n",
        "import sklearn.model_selection as model_selection\n",
        "from sklearn.model_selection import train_test_split\n",
        "X_train, X_test, y_train, y_test = train_test_split(X, y, \n",
        "                                                        test_size = 0.20, \n",
        "                                                        random_state = 42)"
      ],
      "execution_count": 20,
      "outputs": []
    },
    {
      "cell_type": "code",
      "metadata": {
        "id": "gj0dVGHOvRAf"
      },
      "source": [
        "from tensorflow.keras.utils import to_categorical\n",
        "y_train = to_categorical(y_train)"
      ],
      "execution_count": 21,
      "outputs": []
    },
    {
      "cell_type": "code",
      "metadata": {
        "id": "yHpiR4povSaP"
      },
      "source": [
        "from tensorflow.keras.models import Sequential\n",
        "from tensorflow.keras.layers import Dense\n",
        "\n",
        "# Defining our model as sequential\n",
        "model = Sequential()"
      ],
      "execution_count": 22,
      "outputs": []
    },
    {
      "cell_type": "code",
      "metadata": {
        "id": "7iHPUS6YvU6G"
      },
      "source": [
        "# Here is the code that sends the input X_train into a model with 32 nodes in the first hidden layer\n",
        "model.add(Dense(units=32, activation='relu', input_shape=(X_train.shape[1],), name='input'))"
      ],
      "execution_count": 23,
      "outputs": []
    },
    {
      "cell_type": "code",
      "metadata": {
        "id": "avOw6zPXoRoT"
      },
      "source": [
        "# Question #7: show code that adds another dense hidden layer with another 32 nodes\n",
        "model.add(Dense(32, activation='relu',name='hidden'))"
      ],
      "execution_count": 24,
      "outputs": []
    },
    {
      "cell_type": "code",
      "metadata": {
        "id": "rifjcrNro7gm"
      },
      "source": [
        "# Question #8: show code that adds the output layer using softmax. Remember that there are three output nodes (3 species)\n",
        "model.add(Dense(3, activation='softmax', name='output'))"
      ],
      "execution_count": 25,
      "outputs": []
    },
    {
      "cell_type": "code",
      "metadata": {
        "colab": {
          "base_uri": "https://localhost:8080/"
        },
        "id": "ISsGyo55pa-H",
        "outputId": "a1303893-3593-4086-ca57-d9bf7952fe91"
      },
      "source": [
        "# Question #9: use model summary to confirm the model you built - show the function call below\n",
        "model.summary()"
      ],
      "execution_count": 26,
      "outputs": [
        {
          "output_type": "stream",
          "text": [
            "Model: \"sequential\"\n",
            "_________________________________________________________________\n",
            "Layer (type)                 Output Shape              Param #   \n",
            "=================================================================\n",
            "input (Dense)                (None, 32)                160       \n",
            "_________________________________________________________________\n",
            "hidden (Dense)               (None, 32)                1056      \n",
            "_________________________________________________________________\n",
            "output (Dense)               (None, 3)                 99        \n",
            "=================================================================\n",
            "Total params: 1,315\n",
            "Trainable params: 1,315\n",
            "Non-trainable params: 0\n",
            "_________________________________________________________________\n"
          ],
          "name": "stdout"
        }
      ]
    },
    {
      "cell_type": "code",
      "metadata": {
        "id": "xmiusz3HqeK0"
      },
      "source": [
        "# Question #10: compile the code using a) categorical_crossentropy for the loss function, b) stochastic gradient descent with a 0.01 learning rate as the optimizer, and c) accuracy as the metric\n",
        "from keras.optimizers import SGD\n",
        "model.compile(loss=\"categorical_crossentropy\", optimizer=\"SGD\", metrics=[\"accuracy\"])"
      ],
      "execution_count": 27,
      "outputs": []
    },
    {
      "cell_type": "code",
      "metadata": {
        "colab": {
          "base_uri": "https://localhost:8080/"
        },
        "id": "xyTtmZoKz8h7",
        "outputId": "39c4f339-3268-4724-a546-f0beb6bd3e0b"
      },
      "source": [
        "perf=model.fit(x=np.array(X_train), y=y_train, batch_size=16, epochs=50,validation_split=0.20)"
      ],
      "execution_count": 28,
      "outputs": [
        {
          "output_type": "stream",
          "text": [
            "Epoch 1/50\n",
            "14/14 [==============================] - 1s 23ms/step - loss: 1.0010 - accuracy: 0.7277 - val_loss: 0.9012 - val_accuracy: 0.8333\n",
            "Epoch 2/50\n",
            "14/14 [==============================] - 0s 4ms/step - loss: 0.9311 - accuracy: 0.7786 - val_loss: 0.8145 - val_accuracy: 0.8333\n",
            "Epoch 3/50\n",
            "14/14 [==============================] - 0s 4ms/step - loss: 0.8612 - accuracy: 0.7824 - val_loss: 0.7360 - val_accuracy: 0.8333\n",
            "Epoch 4/50\n",
            "14/14 [==============================] - 0s 4ms/step - loss: 0.7724 - accuracy: 0.7869 - val_loss: 0.6667 - val_accuracy: 0.8333\n",
            "Epoch 5/50\n",
            "14/14 [==============================] - 0s 5ms/step - loss: 0.6889 - accuracy: 0.8074 - val_loss: 0.6055 - val_accuracy: 0.8333\n",
            "Epoch 6/50\n",
            "14/14 [==============================] - 0s 5ms/step - loss: 0.6589 - accuracy: 0.7839 - val_loss: 0.5511 - val_accuracy: 0.8333\n",
            "Epoch 7/50\n",
            "14/14 [==============================] - 0s 4ms/step - loss: 0.5896 - accuracy: 0.8092 - val_loss: 0.5027 - val_accuracy: 0.8519\n",
            "Epoch 8/50\n",
            "14/14 [==============================] - 0s 4ms/step - loss: 0.5222 - accuracy: 0.8308 - val_loss: 0.4624 - val_accuracy: 0.8704\n",
            "Epoch 9/50\n",
            "14/14 [==============================] - 0s 5ms/step - loss: 0.4927 - accuracy: 0.8667 - val_loss: 0.4261 - val_accuracy: 0.8889\n",
            "Epoch 10/50\n",
            "14/14 [==============================] - 0s 4ms/step - loss: 0.4432 - accuracy: 0.8936 - val_loss: 0.3937 - val_accuracy: 0.8889\n",
            "Epoch 11/50\n",
            "14/14 [==============================] - 0s 4ms/step - loss: 0.4191 - accuracy: 0.9006 - val_loss: 0.3674 - val_accuracy: 0.9074\n",
            "Epoch 12/50\n",
            "14/14 [==============================] - 0s 5ms/step - loss: 0.4273 - accuracy: 0.8748 - val_loss: 0.3415 - val_accuracy: 0.9259\n",
            "Epoch 13/50\n",
            "14/14 [==============================] - 0s 4ms/step - loss: 0.4130 - accuracy: 0.8688 - val_loss: 0.3186 - val_accuracy: 0.9259\n",
            "Epoch 14/50\n",
            "14/14 [==============================] - 0s 4ms/step - loss: 0.3421 - accuracy: 0.9460 - val_loss: 0.2985 - val_accuracy: 0.9444\n",
            "Epoch 15/50\n",
            "14/14 [==============================] - 0s 4ms/step - loss: 0.3406 - accuracy: 0.9268 - val_loss: 0.2801 - val_accuracy: 0.9444\n",
            "Epoch 16/50\n",
            "14/14 [==============================] - 0s 4ms/step - loss: 0.2972 - accuracy: 0.9394 - val_loss: 0.2636 - val_accuracy: 0.9444\n",
            "Epoch 17/50\n",
            "14/14 [==============================] - 0s 5ms/step - loss: 0.2878 - accuracy: 0.9547 - val_loss: 0.2484 - val_accuracy: 0.9630\n",
            "Epoch 18/50\n",
            "14/14 [==============================] - 0s 5ms/step - loss: 0.3208 - accuracy: 0.9218 - val_loss: 0.2342 - val_accuracy: 0.9630\n",
            "Epoch 19/50\n",
            "14/14 [==============================] - 0s 4ms/step - loss: 0.2970 - accuracy: 0.9400 - val_loss: 0.2211 - val_accuracy: 0.9630\n",
            "Epoch 20/50\n",
            "14/14 [==============================] - 0s 4ms/step - loss: 0.2633 - accuracy: 0.9615 - val_loss: 0.2092 - val_accuracy: 0.9815\n",
            "Epoch 21/50\n",
            "14/14 [==============================] - 0s 4ms/step - loss: 0.2369 - accuracy: 0.9720 - val_loss: 0.1984 - val_accuracy: 0.9815\n",
            "Epoch 22/50\n",
            "14/14 [==============================] - 0s 5ms/step - loss: 0.2137 - accuracy: 0.9705 - val_loss: 0.1881 - val_accuracy: 0.9815\n",
            "Epoch 23/50\n",
            "14/14 [==============================] - 0s 5ms/step - loss: 0.2397 - accuracy: 0.9503 - val_loss: 0.1787 - val_accuracy: 0.9815\n",
            "Epoch 24/50\n",
            "14/14 [==============================] - 0s 4ms/step - loss: 0.2163 - accuracy: 0.9638 - val_loss: 0.1701 - val_accuracy: 0.9815\n",
            "Epoch 25/50\n",
            "14/14 [==============================] - 0s 4ms/step - loss: 0.2094 - accuracy: 0.9575 - val_loss: 0.1627 - val_accuracy: 0.9815\n",
            "Epoch 26/50\n",
            "14/14 [==============================] - 0s 4ms/step - loss: 0.1987 - accuracy: 0.9684 - val_loss: 0.1552 - val_accuracy: 0.9815\n",
            "Epoch 27/50\n",
            "14/14 [==============================] - 0s 5ms/step - loss: 0.1852 - accuracy: 0.9718 - val_loss: 0.1482 - val_accuracy: 0.9815\n",
            "Epoch 28/50\n",
            "14/14 [==============================] - 0s 4ms/step - loss: 0.1778 - accuracy: 0.9664 - val_loss: 0.1417 - val_accuracy: 0.9815\n",
            "Epoch 29/50\n",
            "14/14 [==============================] - 0s 4ms/step - loss: 0.1641 - accuracy: 0.9707 - val_loss: 0.1355 - val_accuracy: 0.9815\n",
            "Epoch 30/50\n",
            "14/14 [==============================] - 0s 4ms/step - loss: 0.1642 - accuracy: 0.9720 - val_loss: 0.1303 - val_accuracy: 0.9815\n",
            "Epoch 31/50\n",
            "14/14 [==============================] - 0s 4ms/step - loss: 0.1614 - accuracy: 0.9823 - val_loss: 0.1251 - val_accuracy: 0.9815\n",
            "Epoch 32/50\n",
            "14/14 [==============================] - 0s 4ms/step - loss: 0.1297 - accuracy: 0.9858 - val_loss: 0.1204 - val_accuracy: 0.9815\n",
            "Epoch 33/50\n",
            "14/14 [==============================] - 0s 5ms/step - loss: 0.1457 - accuracy: 0.9727 - val_loss: 0.1159 - val_accuracy: 0.9815\n",
            "Epoch 34/50\n",
            "14/14 [==============================] - 0s 4ms/step - loss: 0.1396 - accuracy: 0.9737 - val_loss: 0.1116 - val_accuracy: 0.9815\n",
            "Epoch 35/50\n",
            "14/14 [==============================] - 0s 5ms/step - loss: 0.1355 - accuracy: 0.9818 - val_loss: 0.1078 - val_accuracy: 0.9815\n",
            "Epoch 36/50\n",
            "14/14 [==============================] - 0s 6ms/step - loss: 0.1438 - accuracy: 0.9762 - val_loss: 0.1039 - val_accuracy: 0.9815\n",
            "Epoch 37/50\n",
            "14/14 [==============================] - 0s 5ms/step - loss: 0.1101 - accuracy: 0.9910 - val_loss: 0.1004 - val_accuracy: 0.9815\n",
            "Epoch 38/50\n",
            "14/14 [==============================] - 0s 5ms/step - loss: 0.1399 - accuracy: 0.9752 - val_loss: 0.0971 - val_accuracy: 0.9815\n",
            "Epoch 39/50\n",
            "14/14 [==============================] - 0s 6ms/step - loss: 0.1254 - accuracy: 0.9865 - val_loss: 0.0941 - val_accuracy: 0.9815\n",
            "Epoch 40/50\n",
            "14/14 [==============================] - 0s 5ms/step - loss: 0.1405 - accuracy: 0.9661 - val_loss: 0.0912 - val_accuracy: 1.0000\n",
            "Epoch 41/50\n",
            "14/14 [==============================] - 0s 6ms/step - loss: 0.1022 - accuracy: 0.9915 - val_loss: 0.0886 - val_accuracy: 1.0000\n",
            "Epoch 42/50\n",
            "14/14 [==============================] - 0s 7ms/step - loss: 0.1372 - accuracy: 0.9602 - val_loss: 0.0860 - val_accuracy: 1.0000\n",
            "Epoch 43/50\n",
            "14/14 [==============================] - 0s 7ms/step - loss: 0.1220 - accuracy: 0.9741 - val_loss: 0.0836 - val_accuracy: 1.0000\n",
            "Epoch 44/50\n",
            "14/14 [==============================] - 0s 7ms/step - loss: 0.1014 - accuracy: 0.9797 - val_loss: 0.0811 - val_accuracy: 1.0000\n",
            "Epoch 45/50\n",
            "14/14 [==============================] - 0s 6ms/step - loss: 0.1027 - accuracy: 0.9775 - val_loss: 0.0789 - val_accuracy: 1.0000\n",
            "Epoch 46/50\n",
            "14/14 [==============================] - 0s 5ms/step - loss: 0.0957 - accuracy: 0.9804 - val_loss: 0.0767 - val_accuracy: 1.0000\n",
            "Epoch 47/50\n",
            "14/14 [==============================] - 0s 5ms/step - loss: 0.1024 - accuracy: 0.9748 - val_loss: 0.0748 - val_accuracy: 1.0000\n",
            "Epoch 48/50\n",
            "14/14 [==============================] - 0s 6ms/step - loss: 0.0916 - accuracy: 0.9713 - val_loss: 0.0730 - val_accuracy: 1.0000\n",
            "Epoch 49/50\n",
            "14/14 [==============================] - 0s 6ms/step - loss: 0.0808 - accuracy: 0.9881 - val_loss: 0.0712 - val_accuracy: 1.0000\n",
            "Epoch 50/50\n",
            "14/14 [==============================] - 0s 5ms/step - loss: 0.0797 - accuracy: 0.9900 - val_loss: 0.0696 - val_accuracy: 1.0000\n"
          ],
          "name": "stdout"
        }
      ]
    },
    {
      "cell_type": "code",
      "metadata": {
        "colab": {
          "base_uri": "https://localhost:8080/",
          "height": 295
        },
        "id": "WC0k6Fir8_3o",
        "outputId": "d7a2e14a-c64d-4f27-d6c0-8be186992f8f"
      },
      "source": [
        "# use this code to plot the training metrics\n",
        "plt.plot(perf.history['loss'])\n",
        "plt.plot(perf.history['val_loss'])\n",
        "plt.title('model loss')\n",
        "plt.ylabel('loss')\n",
        "plt.xlabel('epoch')\n",
        "plt.legend(['training', 'validation'], loc='best')\n",
        "\n",
        "plt.show()"
      ],
      "execution_count": 29,
      "outputs": [
        {
          "output_type": "display_data",
          "data": {
            "image/png": "[encoded data removed]",
            "text/plain": [
              "<Figure size 432x288 with 1 Axes>"
            ]
          },
          "metadata": {
            "tags": [],
            "needs_background": "light"
          }
        }
      ]
    },
    {
      "cell_type": "code",
      "metadata": {
        "colab": {
          "base_uri": "https://localhost:8080/",
          "height": 295
        },
        "id": "QSQ5RfBT9HLR",
        "outputId": "157f8395-cae8-4eca-9418-cd99709049e0"
      },
      "source": [
        "# Question #12 using the above code as example, plot the accuracy for the training and validation\n",
        "# change the labels accordingly\n",
        "plt.plot(perf.history['accuracy'])\n",
        "plt.plot(perf.history['val_accuracy'])\n",
        "plt.title('model accuracy')\n",
        "plt.ylabel('accuracy')\n",
        "plt.xlabel('epoch')\n",
        "plt.legend(['training', 'validation'], loc='best')\n",
        "\n",
        "plt.show()"
      ],
      "execution_count": 30,
      "outputs": [
        {
          "output_type": "display_data",
          "data": {
            "image/png": "[encoded data removed]",
            "text/plain": [
              "<Figure size 432x288 with 1 Axes>"
            ]
          },
          "metadata": {
            "tags": [],
            "needs_background": "light"
          }
        }
      ]
    },
    {
      "cell_type": "code",
      "metadata": {
        "id": "2XvEdFvY9WxR",
        "colab": {
          "base_uri": "https://localhost:8080/"
        },
        "outputId": "958916a7-1956-4965-dc31-30b2309c944b"
      },
      "source": [
        "class_predictions = np.argmax(model.predict(X_test), axis=-1)\n",
        "class_predictions"
      ],
      "execution_count": 31,
      "outputs": [
        {
          "output_type": "execute_result",
          "data": {
            "text/plain": [
              "array([0, 2, 0, 1, 0, 2, 2, 1, 1, 1, 0, 0, 0, 0, 2, 0, 0, 1, 0, 2, 0, 0,\n",
              "       2, 1, 0, 0, 1, 2, 1, 2, 1, 2, 0, 0, 2, 2, 1, 1, 0, 0, 0, 0, 1, 1,\n",
              "       0, 0, 2, 0, 0, 2, 0, 1, 1, 0, 0, 1, 0, 0, 1, 1, 0, 2, 2, 0, 0, 2,\n",
              "       0])"
            ]
          },
          "metadata": {
            "tags": []
          },
          "execution_count": 31
        }
      ]
    },
    {
      "cell_type": "code",
      "metadata": {
        "id": "FGMnweAX9YLz",
        "colab": {
          "base_uri": "https://localhost:8080/"
        },
        "outputId": "52cd4f39-a36c-42e4-be81-ca1756a41881"
      },
      "source": [
        "# Question #13 \n",
        "# write some code that will calulate the accuracy of the model by comparing y_test to class_predictions\n",
        "# the answer must be in percentages\n",
        "from sklearn.metrics import accuracy_score\n",
        "test_accuracy = accuracy_score(y_test, class_predictions)\n",
        "test_accuracy"
      ],
      "execution_count": 32,
      "outputs": [
        {
          "output_type": "execute_result",
          "data": {
            "text/plain": [
              "0.9701492537313433"
            ]
          },
          "metadata": {
            "tags": []
          },
          "execution_count": 32
        }
      ]
    },
    {
      "cell_type": "code",
      "metadata": {
        "colab": {
          "base_uri": "https://localhost:8080/"
        },
        "id": "2yZv3S0CA9pX",
        "outputId": "aade1c99-0c46-4fce-dea6-a6b6b5e5dd9e"
      },
      "source": [
        "print(\"Test Accuracy : \" + str(test_accuracy) + '%')\n",
        "print(\"Predictions :\")\n",
        "print(class_predictions)\n",
        "print(\"Targets :\")\n",
        "print(np.asarray(y_test,dtype=\"int32\"))"
      ],
      "execution_count": 34,
      "outputs": [
        {
          "output_type": "stream",
          "text": [
            "Test Accuracy : 0.9701492537313433%\n",
            "Predictions :\n",
            "[0 2 0 1 0 2 2 1 1 1 0 0 0 0 2 0 0 1 0 2 0 0 2 1 0 0 1 2 1 2 1 2 0 0 2 2 1\n",
            " 1 0 0 0 0 1 1 0 0 2 0 0 2 0 1 1 0 0 1 0 0 1 1 0 2 2 0 0 2 0]\n",
            "Targets :\n",
            "[0 2 0 1 0 2 2 1 1 1 0 0 2 0 2 0 0 1 0 2 0 0 2 1 0 0 1 2 1 2 1 2 0 0 2 2 1\n",
            " 1 0 0 0 0 1 1 0 0 2 0 0 2 0 1 1 0 0 1 0 0 1 1 2 2 2 0 0 2 0]\n"
          ],
          "name": "stdout"
        }
      ]
    }
  ]
}