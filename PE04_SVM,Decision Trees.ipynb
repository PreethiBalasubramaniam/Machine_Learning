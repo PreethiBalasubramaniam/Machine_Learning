{
  "nbformat": 4,
  "nbformat_minor": 0,
  "metadata": {
    "colab": {
      "name": "Ds-pe04.ipynb",
      "provenance": []
    },
    "kernelspec": {
      "name": "python3",
      "display_name": "Python 3"
    },
    "language_info": {
      "name": "python"
    }
  },
  "cells": [
    {
      "cell_type": "code",
      "metadata": {
        "id": "fJiX-hOp1b6K"
      },
      "source": [
        "import numpy as np\n",
        "import pandas as pd \n",
        "from sklearn.svm import SVC\n",
        "from sklearn.svm import LinearSVC\n",
        "from sklearn.model_selection import train_test_split\n",
        "from sklearn.pipeline import Pipeline\n",
        "from sklearn.preprocessing import StandardScaler\n",
        "from sklearn.metrics import accuracy_score\n",
        "from sklearn.metrics import classification_report\n",
        "import matplotlib.pyplot as plt\n",
        "%matplotlib inline"
      ],
      "execution_count": 5,
      "outputs": []
    },
    {
      "cell_type": "code",
      "metadata": {
        "id": "eHxsB2Q01y0R"
      },
      "source": [
        "# import the winequality-bin.csv dataset into a dataframe called wine\n",
        "wine = pd.read_csv('winequality-bin.csv')"
      ],
      "execution_count": 6,
      "outputs": []
    },
    {
      "cell_type": "code",
      "metadata": {
        "colab": {
          "base_uri": "https://localhost:8080/",
          "height": 360
        },
        "id": "NHwippCY11mK",
        "outputId": "524322bc-4e8b-4a28-b0e2-5f10bb17d932"
      },
      "source": [
        "wine.head(10)"
      ],
      "execution_count": 7,
      "outputs": [
        {
          "output_type": "execute_result",
          "data": {
            "text/html": [
              "<div>\n",
              "<style scoped>\n",
              "    .dataframe tbody tr th:only-of-type {\n",
              "        vertical-align: middle;\n",
              "    }\n",
              "\n",
              "    .dataframe tbody tr th {\n",
              "        vertical-align: top;\n",
              "    }\n",
              "\n",
              "    .dataframe thead th {\n",
              "        text-align: right;\n",
              "    }\n",
              "</style>\n",
              "<table border=\"1\" class=\"dataframe\">\n",
              "  <thead>\n",
              "    <tr style=\"text-align: right;\">\n",
              "      <th></th>\n",
              "      <th>fixed acidity</th>\n",
              "      <th>volatile acidity</th>\n",
              "      <th>citric acid</th>\n",
              "      <th>residual sugar</th>\n",
              "      <th>chlorides</th>\n",
              "      <th>free sulfur dioxide</th>\n",
              "      <th>total sulfur dioxide</th>\n",
              "      <th>density</th>\n",
              "      <th>pH</th>\n",
              "      <th>sulphates</th>\n",
              "      <th>alcohol</th>\n",
              "      <th>quality</th>\n",
              "    </tr>\n",
              "  </thead>\n",
              "  <tbody>\n",
              "    <tr>\n",
              "      <th>0</th>\n",
              "      <td>7.4</td>\n",
              "      <td>0.70</td>\n",
              "      <td>0.00</td>\n",
              "      <td>1.9</td>\n",
              "      <td>0.076</td>\n",
              "      <td>11.0</td>\n",
              "      <td>34.0</td>\n",
              "      <td>0.9978</td>\n",
              "      <td>3.51</td>\n",
              "      <td>0.56</td>\n",
              "      <td>9.4</td>\n",
              "      <td>0</td>\n",
              "    </tr>\n",
              "    <tr>\n",
              "      <th>1</th>\n",
              "      <td>7.8</td>\n",
              "      <td>0.88</td>\n",
              "      <td>0.00</td>\n",
              "      <td>2.6</td>\n",
              "      <td>0.098</td>\n",
              "      <td>25.0</td>\n",
              "      <td>67.0</td>\n",
              "      <td>0.9968</td>\n",
              "      <td>3.20</td>\n",
              "      <td>0.68</td>\n",
              "      <td>9.8</td>\n",
              "      <td>0</td>\n",
              "    </tr>\n",
              "    <tr>\n",
              "      <th>2</th>\n",
              "      <td>7.8</td>\n",
              "      <td>0.76</td>\n",
              "      <td>0.04</td>\n",
              "      <td>2.3</td>\n",
              "      <td>0.092</td>\n",
              "      <td>15.0</td>\n",
              "      <td>54.0</td>\n",
              "      <td>0.9970</td>\n",
              "      <td>3.26</td>\n",
              "      <td>0.65</td>\n",
              "      <td>9.8</td>\n",
              "      <td>0</td>\n",
              "    </tr>\n",
              "    <tr>\n",
              "      <th>3</th>\n",
              "      <td>11.2</td>\n",
              "      <td>0.28</td>\n",
              "      <td>0.56</td>\n",
              "      <td>1.9</td>\n",
              "      <td>0.075</td>\n",
              "      <td>17.0</td>\n",
              "      <td>60.0</td>\n",
              "      <td>0.9980</td>\n",
              "      <td>3.16</td>\n",
              "      <td>0.58</td>\n",
              "      <td>9.8</td>\n",
              "      <td>0</td>\n",
              "    </tr>\n",
              "    <tr>\n",
              "      <th>4</th>\n",
              "      <td>7.4</td>\n",
              "      <td>0.70</td>\n",
              "      <td>0.00</td>\n",
              "      <td>1.9</td>\n",
              "      <td>0.076</td>\n",
              "      <td>11.0</td>\n",
              "      <td>34.0</td>\n",
              "      <td>0.9978</td>\n",
              "      <td>3.51</td>\n",
              "      <td>0.56</td>\n",
              "      <td>9.4</td>\n",
              "      <td>0</td>\n",
              "    </tr>\n",
              "    <tr>\n",
              "      <th>5</th>\n",
              "      <td>7.4</td>\n",
              "      <td>0.66</td>\n",
              "      <td>0.00</td>\n",
              "      <td>1.8</td>\n",
              "      <td>0.075</td>\n",
              "      <td>13.0</td>\n",
              "      <td>40.0</td>\n",
              "      <td>0.9978</td>\n",
              "      <td>3.51</td>\n",
              "      <td>0.56</td>\n",
              "      <td>9.4</td>\n",
              "      <td>0</td>\n",
              "    </tr>\n",
              "    <tr>\n",
              "      <th>6</th>\n",
              "      <td>7.9</td>\n",
              "      <td>0.60</td>\n",
              "      <td>0.06</td>\n",
              "      <td>1.6</td>\n",
              "      <td>0.069</td>\n",
              "      <td>15.0</td>\n",
              "      <td>59.0</td>\n",
              "      <td>0.9964</td>\n",
              "      <td>3.30</td>\n",
              "      <td>0.46</td>\n",
              "      <td>9.4</td>\n",
              "      <td>0</td>\n",
              "    </tr>\n",
              "    <tr>\n",
              "      <th>7</th>\n",
              "      <td>7.3</td>\n",
              "      <td>0.65</td>\n",
              "      <td>0.00</td>\n",
              "      <td>1.2</td>\n",
              "      <td>0.065</td>\n",
              "      <td>15.0</td>\n",
              "      <td>21.0</td>\n",
              "      <td>0.9946</td>\n",
              "      <td>3.39</td>\n",
              "      <td>0.47</td>\n",
              "      <td>10.0</td>\n",
              "      <td>1</td>\n",
              "    </tr>\n",
              "    <tr>\n",
              "      <th>8</th>\n",
              "      <td>7.8</td>\n",
              "      <td>0.58</td>\n",
              "      <td>0.02</td>\n",
              "      <td>2.0</td>\n",
              "      <td>0.073</td>\n",
              "      <td>9.0</td>\n",
              "      <td>18.0</td>\n",
              "      <td>0.9968</td>\n",
              "      <td>3.36</td>\n",
              "      <td>0.57</td>\n",
              "      <td>9.5</td>\n",
              "      <td>1</td>\n",
              "    </tr>\n",
              "    <tr>\n",
              "      <th>9</th>\n",
              "      <td>7.5</td>\n",
              "      <td>0.50</td>\n",
              "      <td>0.36</td>\n",
              "      <td>6.1</td>\n",
              "      <td>0.071</td>\n",
              "      <td>17.0</td>\n",
              "      <td>102.0</td>\n",
              "      <td>0.9978</td>\n",
              "      <td>3.35</td>\n",
              "      <td>0.80</td>\n",
              "      <td>10.5</td>\n",
              "      <td>0</td>\n",
              "    </tr>\n",
              "  </tbody>\n",
              "</table>\n",
              "</div>"
            ],
            "text/plain": [
              "   fixed acidity  volatile acidity  citric acid  ...  sulphates  alcohol  quality\n",
              "0            7.4              0.70         0.00  ...       0.56      9.4        0\n",
              "1            7.8              0.88         0.00  ...       0.68      9.8        0\n",
              "2            7.8              0.76         0.04  ...       0.65      9.8        0\n",
              "3           11.2              0.28         0.56  ...       0.58      9.8        0\n",
              "4            7.4              0.70         0.00  ...       0.56      9.4        0\n",
              "5            7.4              0.66         0.00  ...       0.56      9.4        0\n",
              "6            7.9              0.60         0.06  ...       0.46      9.4        0\n",
              "7            7.3              0.65         0.00  ...       0.47     10.0        1\n",
              "8            7.8              0.58         0.02  ...       0.57      9.5        1\n",
              "9            7.5              0.50         0.36  ...       0.80     10.5        0\n",
              "\n",
              "[10 rows x 12 columns]"
            ]
          },
          "metadata": {
            "tags": []
          },
          "execution_count": 7
        }
      ]
    },
    {
      "cell_type": "code",
      "metadata": {
        "colab": {
          "base_uri": "https://localhost:8080/"
        },
        "id": "MZMB8gkX151r",
        "outputId": "027013bc-9ca0-41a3-e6e4-23380ec096e9"
      },
      "source": [
        "# assign the features to the X and the labels to y\n",
        "X = wine.drop('quality', axis = 1)\n",
        "y = wine['quality']\n",
        "print(\"X values: \",X)\n",
        "print(\"\\n\\n\\nY values: \",y)"
      ],
      "execution_count": 8,
      "outputs": [
        {
          "output_type": "stream",
          "text": [
            "X values:        fixed acidity  volatile acidity  citric acid  ...    pH  sulphates  alcohol\n",
            "0               7.4             0.700         0.00  ...  3.51       0.56      9.4\n",
            "1               7.8             0.880         0.00  ...  3.20       0.68      9.8\n",
            "2               7.8             0.760         0.04  ...  3.26       0.65      9.8\n",
            "3              11.2             0.280         0.56  ...  3.16       0.58      9.8\n",
            "4               7.4             0.700         0.00  ...  3.51       0.56      9.4\n",
            "...             ...               ...          ...  ...   ...        ...      ...\n",
            "1594            6.2             0.600         0.08  ...  3.45       0.58     10.5\n",
            "1595            5.9             0.550         0.10  ...  3.52       0.76     11.2\n",
            "1596            6.3             0.510         0.13  ...  3.42       0.75     11.0\n",
            "1597            5.9             0.645         0.12  ...  3.57       0.71     10.2\n",
            "1598            6.0             0.310         0.47  ...  3.39       0.66     11.0\n",
            "\n",
            "[1599 rows x 11 columns]\n",
            "\n",
            "\n",
            "\n",
            "Y values:  0       0\n",
            "1       0\n",
            "2       0\n",
            "3       0\n",
            "4       0\n",
            "       ..\n",
            "1594    0\n",
            "1595    0\n",
            "1596    0\n",
            "1597    0\n",
            "1598    0\n",
            "Name: quality, Length: 1599, dtype: int64\n"
          ],
          "name": "stdout"
        }
      ]
    },
    {
      "cell_type": "code",
      "metadata": {
        "id": "DjhMr8A_18rb"
      },
      "source": [
        "# split X and y into X_train, X_test, y_train and y_test using a test_size of 30% and a random_state of 42\n",
        "X_train, X_test, y_train, y_test = train_test_split (X,y, test_size=0.3, random_state=42)"
      ],
      "execution_count": 9,
      "outputs": []
    },
    {
      "cell_type": "code",
      "metadata": {
        "id": "QtsRHWxN1_n8"
      },
      "source": [
        "# Exercise 1 \n",
        "# training SVM models"
      ],
      "execution_count": null,
      "outputs": []
    },
    {
      "cell_type": "code",
      "metadata": {
        "colab": {
          "base_uri": "https://localhost:8080/"
        },
        "id": "Ig4BU53P2BRO",
        "outputId": "d409365a-5b55-46d3-e1f7-bb852fff3b24"
      },
      "source": [
        "# Task 1.1\n",
        "# what is the size of y_train?\n",
        "# what is the size of y_test?\n",
        "print(\"Size of y_train is \", y_train.size)\n",
        "print(\"Size of y_test is \", y_test.size)"
      ],
      "execution_count": 10,
      "outputs": [
        {
          "output_type": "stream",
          "text": [
            "Size of y_train is  1119\n",
            "Size of y_test is  480\n"
          ],
          "name": "stdout"
        }
      ]
    },
    {
      "cell_type": "code",
      "metadata": {
        "colab": {
          "base_uri": "https://localhost:8080/"
        },
        "id": "p85yQX4D2E47",
        "outputId": "a0a3fce8-4284-48ff-af32-5c235eff89af"
      },
      "source": [
        "# Task 1.2\n",
        "# create a SVM model called svm_linear_clf using the pipeline pattern shown in O'Reilly textbook page 156 \n",
        "# add a max_iter of 20000 to ensure the training converges\n",
        "# What value of C did you choose?\n",
        "svm_linear_clf = Pipeline([\n",
        "    (\"scaler\", StandardScaler()),\n",
        "    (\"svc\",SVC(C = 1, max_iter = 20000)),\n",
        "])\n",
        "print(\"C = 1 is chosen as it generalizes well\")"
      ],
      "execution_count": 13,
      "outputs": [
        {
          "output_type": "stream",
          "text": [
            "C = 1 is chosen as it generalizes well\n"
          ],
          "name": "stdout"
        }
      ]
    },
    {
      "cell_type": "code",
      "metadata": {
        "colab": {
          "base_uri": "https://localhost:8080/"
        },
        "id": "EB-W6lUc2HF4",
        "outputId": "57d082cf-36b2-4775-8b82-8fa201b49bee"
      },
      "source": [
        "# Task 1.3\n",
        "# train the svm_linear_clf model using the fit function on X_train and y_train\n",
        "svm_linear_clf.fit(X_train,y_train)"
      ],
      "execution_count": 14,
      "outputs": [
        {
          "output_type": "execute_result",
          "data": {
            "text/plain": [
              "Pipeline(memory=None,\n",
              "         steps=[('scaler',\n",
              "                 StandardScaler(copy=True, with_mean=True, with_std=True)),\n",
              "                ('svc',\n",
              "                 SVC(C=1, break_ties=False, cache_size=200, class_weight=None,\n",
              "                     coef0=0.0, decision_function_shape='ovr', degree=3,\n",
              "                     gamma='scale', kernel='rbf', max_iter=20000,\n",
              "                     probability=False, random_state=None, shrinking=True,\n",
              "                     tol=0.001, verbose=False))],\n",
              "         verbose=False)"
            ]
          },
          "metadata": {
            "tags": []
          },
          "execution_count": 14
        }
      ]
    },
    {
      "cell_type": "code",
      "metadata": {
        "id": "0_EsqLNz2MmM"
      },
      "source": [
        "# Task 1.4\n",
        "# using the predict function, calculate the svm_linear_clf model predictions based on X_test\n",
        "# hint: use the model.predict(X_test) pattern\n",
        "y_pred = svm_linear_clf.predict(X_test)"
      ],
      "execution_count": 15,
      "outputs": []
    },
    {
      "cell_type": "code",
      "metadata": {
        "colab": {
          "base_uri": "https://localhost:8080/"
        },
        "id": "3c3goocP2NYu",
        "outputId": "3ddfcf35-3954-4a7b-9071-fc06d3436207"
      },
      "source": [
        "# Task 1.5\n",
        "# Calculate the accuracy of svm_linear_clf by comparing y_pred to y_test (see https://scikit-learn.org/stable/modules/generated/sklearn.metrics.accuracy_score.html)\n",
        "# what is the accuracy? \n",
        "svm_linear_accuracy = accuracy_score(y_test, y_pred)\n",
        "print(svm_linear_accuracy)"
      ],
      "execution_count": 16,
      "outputs": [
        {
          "output_type": "stream",
          "text": [
            "0.88125\n"
          ],
          "name": "stdout"
        }
      ]
    },
    {
      "cell_type": "code",
      "metadata": {
        "id": "h2MXelEY2PoI"
      },
      "source": [
        "# Task 1.6 \n",
        "# create a SVM model called svm_poly_clf using the pipeline pattern shown in O'Reilly textbook page 158\n",
        "# add a max_iter of 20000 to ensure the training converges\n",
        "svm_poly_clf = Pipeline([\n",
        "    (\"scaler\", StandardScaler()),\n",
        "    (\"svc\",SVC(kernel = \"poly\", C = 5, degree=3, coef0=1, max_iter = 20000)),\n",
        "])"
      ],
      "execution_count": 17,
      "outputs": []
    },
    {
      "cell_type": "code",
      "metadata": {
        "colab": {
          "base_uri": "https://localhost:8080/"
        },
        "id": "NeWDqRIp2SNL",
        "outputId": "0cc2c9a9-be0b-4657-b19b-bc6cf190f415"
      },
      "source": [
        "# Task 1.7 \n",
        "# train the svm_poly_clf model using the fit function on X_train and y_train\n",
        "svm_poly_clf.fit(X_train,y_train)"
      ],
      "execution_count": 18,
      "outputs": [
        {
          "output_type": "execute_result",
          "data": {
            "text/plain": [
              "Pipeline(memory=None,\n",
              "         steps=[('scaler',\n",
              "                 StandardScaler(copy=True, with_mean=True, with_std=True)),\n",
              "                ('svc',\n",
              "                 SVC(C=5, break_ties=False, cache_size=200, class_weight=None,\n",
              "                     coef0=1, decision_function_shape='ovr', degree=3,\n",
              "                     gamma='scale', kernel='poly', max_iter=20000,\n",
              "                     probability=False, random_state=None, shrinking=True,\n",
              "                     tol=0.001, verbose=False))],\n",
              "         verbose=False)"
            ]
          },
          "metadata": {
            "tags": []
          },
          "execution_count": 18
        }
      ]
    },
    {
      "cell_type": "code",
      "metadata": {
        "id": "af3CkP1z2T-v"
      },
      "source": [
        "# Task 1.8\n",
        "# using the predict function, calculate the svm_poly_clf model predictions based on X_test\n",
        "# hint: use the model.predict(X_test) pattern\n",
        "y_pred = svm_poly_clf.predict(X_test)"
      ],
      "execution_count": 19,
      "outputs": []
    },
    {
      "cell_type": "code",
      "metadata": {
        "colab": {
          "base_uri": "https://localhost:8080/"
        },
        "id": "yV6ApLQS2XzP",
        "outputId": "754047d9-c70d-4645-eedc-35bb35169a19"
      },
      "source": [
        "# Task 1.9\n",
        "# Calculate the accuracy of svm_poly_clf by comparing y_pred to y_test (see https://scikit-learn.org/stable/modules/generated/sklearn.metrics.accuracy_score.html)\n",
        "# what is the accuracy? \n",
        "svm_poly_accuracy = accuracy_score(y_test, y_pred)\n",
        "print(svm_poly_accuracy)"
      ],
      "execution_count": 20,
      "outputs": [
        {
          "output_type": "stream",
          "text": [
            "0.8770833333333333\n"
          ],
          "name": "stdout"
        }
      ]
    },
    {
      "cell_type": "code",
      "metadata": {
        "id": "Ft_mNbkY2Zzm"
      },
      "source": [
        "# Task 1.10\n",
        "# create a SVM model called svm_rbf_clf using the pipeline pattern shown in O'Reilly textbook page 160\n",
        "# add a max_iter of 20000 to ensure the training converges\n",
        "svm_rbf_clf = Pipeline([\n",
        "    (\"scaler\", StandardScaler()),\n",
        "    (\"svc\",SVC(kernel = \"rbf\", C = 0.001,gamma=5, max_iter = 20000)),\n",
        "])"
      ],
      "execution_count": 21,
      "outputs": []
    },
    {
      "cell_type": "code",
      "metadata": {
        "colab": {
          "base_uri": "https://localhost:8080/"
        },
        "id": "XLvMMur82cEi",
        "outputId": "f2a0d6f8-8fd4-464b-8ffb-07c7164b1705"
      },
      "source": [
        "# Task 1.11\n",
        "# train the svm_rbf_clf model using the fit function  on X_train and y_train\n",
        "svm_rbf_clf.fit(X_train,y_train)"
      ],
      "execution_count": 22,
      "outputs": [
        {
          "output_type": "execute_result",
          "data": {
            "text/plain": [
              "Pipeline(memory=None,\n",
              "         steps=[('scaler',\n",
              "                 StandardScaler(copy=True, with_mean=True, with_std=True)),\n",
              "                ('svc',\n",
              "                 SVC(C=0.001, break_ties=False, cache_size=200,\n",
              "                     class_weight=None, coef0=0.0,\n",
              "                     decision_function_shape='ovr', degree=3, gamma=5,\n",
              "                     kernel='rbf', max_iter=20000, probability=False,\n",
              "                     random_state=None, shrinking=True, tol=0.001,\n",
              "                     verbose=False))],\n",
              "         verbose=False)"
            ]
          },
          "metadata": {
            "tags": []
          },
          "execution_count": 22
        }
      ]
    },
    {
      "cell_type": "code",
      "metadata": {
        "id": "eXkXC3T52dxa"
      },
      "source": [
        "# Task 1.12\n",
        "# using the predict function, calculate the svm_rbf_clf model predictions based on X_test\n",
        "# hint: use the model.predict(X_test) pattern\n",
        "y_pred = svm_rbf_clf.predict(X_test)"
      ],
      "execution_count": 23,
      "outputs": []
    },
    {
      "cell_type": "code",
      "metadata": {
        "colab": {
          "base_uri": "https://localhost:8080/"
        },
        "id": "FqlSdEAU2gRr",
        "outputId": "790e429b-7c9a-412b-dfe0-3e8f6980de05"
      },
      "source": [
        "# Task 1.13\n",
        "# Calculate the accuracy of svm_rbf_clf by comparing y_pred to y_test (see https://scikit-learn.org/stable/modules/generated/sklearn.metrics.accuracy_score.html)\n",
        "svm_rbf_accuracy = accuracy_score(y_test, y_pred)\n",
        "print(svm_rbf_accuracy)"
      ],
      "execution_count": 24,
      "outputs": [
        {
          "output_type": "stream",
          "text": [
            "0.8604166666666667\n"
          ],
          "name": "stdout"
        }
      ]
    },
    {
      "cell_type": "code",
      "metadata": {
        "id": "oUKQijZl2iLm"
      },
      "source": [
        "# Exercise 2\n",
        "# let's us grid search to find the best SVM model for this dataset"
      ],
      "execution_count": 25,
      "outputs": []
    },
    {
      "cell_type": "code",
      "metadata": {
        "id": "OVXdFpT32j79"
      },
      "source": [
        "# task 2.1 \n",
        "# import the required sklearn library for performing a grid search\n",
        "from sklearn.model_selection import train_test_split, GridSearchCV, cross_val_score"
      ],
      "execution_count": 26,
      "outputs": []
    },
    {
      "cell_type": "code",
      "metadata": {
        "id": "wshplsbZ2mR5"
      },
      "source": [
        "# Task 2.2\n",
        "# Set the grid search parameters as follows to help find the best parameters for our SVC model\n",
        "param = {\n",
        "    'C': [0.5,1,1.3,1.5],\n",
        "    'kernel':['linear', 'rbf'],\n",
        "    'gamma' :[0.5,1,1.3,1.5],\n",
        "}\n",
        "\n",
        "# or use:\n",
        "\n",
        "param2 = {\n",
        "    'C': [0.5,1,1.3,1.5],\n",
        "    'kernel':['poly', 'rbf'],\n",
        "    'gamma' :[0.5,1,1.3,1.5],\n",
        "    'degree':[2,3,4]\n",
        "}"
      ],
      "execution_count": 27,
      "outputs": []
    },
    {
      "cell_type": "code",
      "metadata": {
        "id": "c3ylRvmF2onR"
      },
      "source": [
        "# Task 2.3\n",
        "# Setup and run the svm classifier model\n",
        "\n",
        "svc = SVC()\n",
        "grid_svc = GridSearchCV(svc, param_grid=param, scoring='accuracy', cv=10)"
      ],
      "execution_count": 40,
      "outputs": []
    },
    {
      "cell_type": "code",
      "metadata": {
        "colab": {
          "base_uri": "https://localhost:8080/"
        },
        "id": "TRWs2X3r2qvx",
        "outputId": "d6daa57c-579f-4d80-b6fe-772f54340e98"
      },
      "source": [
        "# Task 2.4\n",
        "# use fit on X_train and y_train to train the grid_svc model\n",
        "#  It is recommended to run it on Google Colab or Kaggle with GPU to make the training go faster\n",
        "grid_svc.fit(X_train, y_train)"
      ],
      "execution_count": 41,
      "outputs": [
        {
          "output_type": "execute_result",
          "data": {
            "text/plain": [
              "GridSearchCV(cv=10, error_score=nan,\n",
              "             estimator=SVC(C=1.0, break_ties=False, cache_size=200,\n",
              "                           class_weight=None, coef0=0.0,\n",
              "                           decision_function_shape='ovr', degree=3,\n",
              "                           gamma='scale', kernel='rbf', max_iter=-1,\n",
              "                           probability=False, random_state=None, shrinking=True,\n",
              "                           tol=0.001, verbose=False),\n",
              "             iid='deprecated', n_jobs=None,\n",
              "             param_grid={'C': [0.5, 1, 1.3, 1.5], 'gamma': [0.5, 1, 1.3, 1.5],\n",
              "                         'kernel': ['linear', 'rbf']},\n",
              "             pre_dispatch='2*n_jobs', refit=True, return_train_score=False,\n",
              "             scoring='accuracy', verbose=0)"
            ]
          },
          "metadata": {
            "tags": []
          },
          "execution_count": 41
        }
      ]
    },
    {
      "cell_type": "code",
      "metadata": {
        "colab": {
          "base_uri": "https://localhost:8080/"
        },
        "id": "UIsLgBnj2uRM",
        "outputId": "d2c06bc2-ba80-4e15-a466-136db5fe9d01"
      },
      "source": [
        "# task 2.5\n",
        "# use grid_svc.best_params_ to find the best model\n",
        "# what is the accuracy for the best model?\n",
        "print(grid_svc.best_params_)"
      ],
      "execution_count": 42,
      "outputs": [
        {
          "output_type": "stream",
          "text": [
            "{'C': 1.3, 'gamma': 1, 'kernel': 'rbf'}\n"
          ],
          "name": "stdout"
        }
      ]
    },
    {
      "cell_type": "code",
      "metadata": {
        "id": "W6jEx_5v2xsc"
      },
      "source": [
        "# Exercise 3\n",
        "# Let's run a random forest classifier on the same wine dataset\n",
        "# Task 3.1\n",
        "# import the required scikit-learn library for running random forest classification\n",
        "from sklearn.ensemble import RandomForestClassifier"
      ],
      "execution_count": 31,
      "outputs": []
    },
    {
      "cell_type": "code",
      "metadata": {
        "id": "vrOpx7Zy214g"
      },
      "source": [
        "# Task 3.2\n",
        "# define a model called rfc as a random forest classifier with 200 estimators\n",
        "rfc = RandomForestClassifier(n_estimators=200)"
      ],
      "execution_count": 32,
      "outputs": []
    },
    {
      "cell_type": "code",
      "metadata": {
        "id": "m4fIB63r22yQ"
      },
      "source": [
        "#Applying Standard scaling to get optimized result\n",
        "sc = StandardScaler()\n",
        "X_train = sc.fit_transform(X_train)\n",
        "X_test = sc.fit_transform(X_test)"
      ],
      "execution_count": 34,
      "outputs": []
    },
    {
      "cell_type": "code",
      "metadata": {
        "colab": {
          "base_uri": "https://localhost:8080/"
        },
        "id": "ppJwhHF9248K",
        "outputId": "96d65ef1-3122-4c38-fb8c-428bb084d2b8"
      },
      "source": [
        "# Task 3.3\n",
        "# train the rfc random forest classifier on X_train and y_train\n",
        "rfc.fit(X_train,y_train)"
      ],
      "execution_count": 35,
      "outputs": [
        {
          "output_type": "execute_result",
          "data": {
            "text/plain": [
              "RandomForestClassifier(bootstrap=True, ccp_alpha=0.0, class_weight=None,\n",
              "                       criterion='gini', max_depth=None, max_features='auto',\n",
              "                       max_leaf_nodes=None, max_samples=None,\n",
              "                       min_impurity_decrease=0.0, min_impurity_split=None,\n",
              "                       min_samples_leaf=1, min_samples_split=2,\n",
              "                       min_weight_fraction_leaf=0.0, n_estimators=200,\n",
              "                       n_jobs=None, oob_score=False, random_state=None,\n",
              "                       verbose=0, warm_start=False)"
            ]
          },
          "metadata": {
            "tags": []
          },
          "execution_count": 35
        }
      ]
    },
    {
      "cell_type": "code",
      "metadata": {
        "id": "dGTz9npG26qg"
      },
      "source": [
        "# Task 3.4\n",
        "# calculate the predictions for the X_test values. Call the ouput y_pred\n",
        "y_pred = rfc.predict(X_test)"
      ],
      "execution_count": 37,
      "outputs": []
    },
    {
      "cell_type": "code",
      "metadata": {
        "colab": {
          "base_uri": "https://localhost:8080/"
        },
        "id": "QSG5QyuQ29Ax",
        "outputId": "87e43eed-a7ff-46b3-9775-beea31ccc98f"
      },
      "source": [
        "# Task 3.5\n",
        "# what is the accuracy? \n",
        "rfc_accuracy = accuracy_score(y_test, y_pred)\n",
        "print(rfc_accuracy)"
      ],
      "execution_count": 38,
      "outputs": [
        {
          "output_type": "stream",
          "text": [
            "0.88125\n"
          ],
          "name": "stdout"
        }
      ]
    },
    {
      "cell_type": "code",
      "metadata": {
        "colab": {
          "base_uri": "https://localhost:8080/"
        },
        "id": "s0_z99Ai2_n2",
        "outputId": "eee27419-f936-4df1-ffd4-e612cdabcf3b"
      },
      "source": [
        "# Task 3.6\n",
        "#Let's see how our model performed by running print(classification_report(y_test, y_pred))\n",
        "# What is the accuracy of the model?\n",
        "print(classification_report(y_test, y_pred))"
      ],
      "execution_count": 39,
      "outputs": [
        {
          "output_type": "stream",
          "text": [
            "              precision    recall  f1-score   support\n",
            "\n",
            "           0       0.91      0.96      0.93       413\n",
            "           1       0.61      0.42      0.50        67\n",
            "\n",
            "    accuracy                           0.88       480\n",
            "   macro avg       0.76      0.69      0.71       480\n",
            "weighted avg       0.87      0.88      0.87       480\n",
            "\n"
          ],
          "name": "stdout"
        }
      ]
    }
  ]
}