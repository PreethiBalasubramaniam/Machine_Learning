{
  "nbformat": 4,
  "nbformat_minor": 0,
  "metadata": {
    "colab": {
      "name": "DS_PE02(3).ipynb",
      "provenance": [],
      "collapsed_sections": []
    },
    "kernelspec": {
      "name": "python3",
      "display_name": "Python 3"
    },
    "language_info": {
      "name": "python"
    }
  },
  "cells": [
    {
      "cell_type": "code",
      "metadata": {
        "id": "LFNwucisJ8do"
      },
      "source": [
        "import numpy as np\n",
        "from numpy.core.numeric import cross\n",
        "import pandas as pd\n",
        "from scipy.sparse.construct import rand\n",
        "from sklearn.model_selection import train_test_split\n",
        "from sklearn.linear_model import SGDClassifier\n",
        "from sklearn.model_selection import cross_val_score\n",
        "from sklearn.model_selection import cross_val_predict\n",
        "from sklearn.metrics import precision_recall_curve"
      ],
      "execution_count": 299,
      "outputs": []
    },
    {
      "cell_type": "code",
      "metadata": {
        "colab": {
          "base_uri": "https://localhost:8080/",
          "height": 195
        },
        "id": "d9GybPhFKF_s",
        "outputId": "01a6d8b7-4d14-4113-9c61-8b8c249a6c47"
      },
      "source": [
        "df = pd.read_csv('employee_retention.csv')\n",
        "df.head()"
      ],
      "execution_count": 300,
      "outputs": [
        {
          "output_type": "execute_result",
          "data": {
            "text/html": [
              "<div>\n",
              "<style scoped>\n",
              "    .dataframe tbody tr th:only-of-type {\n",
              "        vertical-align: middle;\n",
              "    }\n",
              "\n",
              "    .dataframe tbody tr th {\n",
              "        vertical-align: top;\n",
              "    }\n",
              "\n",
              "    .dataframe thead th {\n",
              "        text-align: right;\n",
              "    }\n",
              "</style>\n",
              "<table border=\"1\" class=\"dataframe\">\n",
              "  <thead>\n",
              "    <tr style=\"text-align: right;\">\n",
              "      <th></th>\n",
              "      <th>satisfaction_level</th>\n",
              "      <th>last_evaluation</th>\n",
              "      <th>number_project</th>\n",
              "      <th>average_montly_hours</th>\n",
              "      <th>time_spend_company</th>\n",
              "      <th>Work_accident</th>\n",
              "      <th>promotion_last_5years</th>\n",
              "      <th>left</th>\n",
              "    </tr>\n",
              "  </thead>\n",
              "  <tbody>\n",
              "    <tr>\n",
              "      <th>0</th>\n",
              "      <td>0.38</td>\n",
              "      <td>0.53</td>\n",
              "      <td>2</td>\n",
              "      <td>157</td>\n",
              "      <td>3</td>\n",
              "      <td>0</td>\n",
              "      <td>0</td>\n",
              "      <td>1</td>\n",
              "    </tr>\n",
              "    <tr>\n",
              "      <th>1</th>\n",
              "      <td>0.80</td>\n",
              "      <td>0.86</td>\n",
              "      <td>5</td>\n",
              "      <td>262</td>\n",
              "      <td>6</td>\n",
              "      <td>0</td>\n",
              "      <td>0</td>\n",
              "      <td>1</td>\n",
              "    </tr>\n",
              "    <tr>\n",
              "      <th>2</th>\n",
              "      <td>0.11</td>\n",
              "      <td>0.88</td>\n",
              "      <td>7</td>\n",
              "      <td>272</td>\n",
              "      <td>4</td>\n",
              "      <td>0</td>\n",
              "      <td>0</td>\n",
              "      <td>1</td>\n",
              "    </tr>\n",
              "    <tr>\n",
              "      <th>3</th>\n",
              "      <td>0.72</td>\n",
              "      <td>0.87</td>\n",
              "      <td>5</td>\n",
              "      <td>223</td>\n",
              "      <td>5</td>\n",
              "      <td>0</td>\n",
              "      <td>0</td>\n",
              "      <td>1</td>\n",
              "    </tr>\n",
              "    <tr>\n",
              "      <th>4</th>\n",
              "      <td>0.37</td>\n",
              "      <td>0.52</td>\n",
              "      <td>2</td>\n",
              "      <td>159</td>\n",
              "      <td>3</td>\n",
              "      <td>0</td>\n",
              "      <td>0</td>\n",
              "      <td>1</td>\n",
              "    </tr>\n",
              "  </tbody>\n",
              "</table>\n",
              "</div>"
            ],
            "text/plain": [
              "   satisfaction_level  last_evaluation  ...  promotion_last_5years  left\n",
              "0                0.38             0.53  ...                      0     1\n",
              "1                0.80             0.86  ...                      0     1\n",
              "2                0.11             0.88  ...                      0     1\n",
              "3                0.72             0.87  ...                      0     1\n",
              "4                0.37             0.52  ...                      0     1\n",
              "\n",
              "[5 rows x 8 columns]"
            ]
          },
          "metadata": {
            "tags": []
          },
          "execution_count": 300
        }
      ]
    },
    {
      "cell_type": "code",
      "metadata": {
        "colab": {
          "base_uri": "https://localhost:8080/"
        },
        "id": "WqnW5SRAKMlR",
        "outputId": "db326b94-9063-45fc-9297-2fd50fb05694"
      },
      "source": [
        "X = df.iloc[:, 0:7]\n",
        "y = df.iloc[:,7]\n",
        "print (X)\n",
        "print(y)"
      ],
      "execution_count": 301,
      "outputs": [
        {
          "output_type": "stream",
          "text": [
            "       satisfaction_level  ...  promotion_last_5years\n",
            "0                    0.38  ...                      0\n",
            "1                    0.80  ...                      0\n",
            "2                    0.11  ...                      0\n",
            "3                    0.72  ...                      0\n",
            "4                    0.37  ...                      0\n",
            "...                   ...  ...                    ...\n",
            "14994                0.40  ...                      0\n",
            "14995                0.37  ...                      0\n",
            "14996                0.37  ...                      0\n",
            "14997                0.11  ...                      0\n",
            "14998                0.37  ...                      0\n",
            "\n",
            "[14999 rows x 7 columns]\n",
            "0        1\n",
            "1        1\n",
            "2        1\n",
            "3        1\n",
            "4        1\n",
            "        ..\n",
            "14994    1\n",
            "14995    1\n",
            "14996    1\n",
            "14997    1\n",
            "14998    1\n",
            "Name: left, Length: 14999, dtype: int64\n"
          ],
          "name": "stdout"
        }
      ]
    },
    {
      "cell_type": "code",
      "metadata": {
        "id": "P2rErTOHUXf2"
      },
      "source": [
        "X_train, X_test, y_train, y_test = train_test_split(X, y, test_size=0.33 , random_state=42)"
      ],
      "execution_count": 302,
      "outputs": []
    },
    {
      "cell_type": "code",
      "metadata": {
        "colab": {
          "base_uri": "https://localhost:8080/"
        },
        "id": "UpVK_1ahKpOJ",
        "outputId": "02d34122-5a50-4a84-ae19-5baa74dd0b4c"
      },
      "source": [
        "model = SGDClassifier()\n",
        "model.fit(X_train, y_train)"
      ],
      "execution_count": 303,
      "outputs": [
        {
          "output_type": "execute_result",
          "data": {
            "text/plain": [
              "SGDClassifier(alpha=0.0001, average=False, class_weight=None,\n",
              "              early_stopping=False, epsilon=0.1, eta0=0.0, fit_intercept=True,\n",
              "              l1_ratio=0.15, learning_rate='optimal', loss='hinge',\n",
              "              max_iter=1000, n_iter_no_change=5, n_jobs=None, penalty='l2',\n",
              "              power_t=0.5, random_state=None, shuffle=True, tol=0.001,\n",
              "              validation_fraction=0.1, verbose=0, warm_start=False)"
            ]
          },
          "metadata": {
            "tags": []
          },
          "execution_count": 303
        }
      ]
    },
    {
      "cell_type": "code",
      "metadata": {
        "colab": {
          "base_uri": "https://localhost:8080/"
        },
        "id": "rHSt7xkwKsBs",
        "outputId": "ad56936f-9399-4f34-ed01-d0df11144561"
      },
      "source": [
        "\n",
        "model.predict(X_test)\n"
      ],
      "execution_count": 304,
      "outputs": [
        {
          "output_type": "execute_result",
          "data": {
            "text/plain": [
              "array([0, 0, 1, ..., 0, 1, 1])"
            ]
          },
          "metadata": {
            "tags": []
          },
          "execution_count": 304
        }
      ]
    },
    {
      "cell_type": "code",
      "metadata": {
        "colab": {
          "base_uri": "https://localhost:8080/"
        },
        "id": "IpDpPa54NgoZ",
        "outputId": "4856ce7f-9b32-4f08-deab-0e41ae474030"
      },
      "source": [
        "model.score(X_test,y_test)"
      ],
      "execution_count": 320,
      "outputs": [
        {
          "output_type": "execute_result",
          "data": {
            "text/plain": [
              "0.47454545454545455"
            ]
          },
          "metadata": {
            "tags": []
          },
          "execution_count": 320
        }
      ]
    },
    {
      "cell_type": "code",
      "metadata": {
        "colab": {
          "base_uri": "https://localhost:8080/"
        },
        "id": "BEAYTNihOE_1",
        "outputId": "af052a58-ddf8-494d-ab0a-a2af5f73a77d"
      },
      "source": [
        "cross_val_score(model, X_train, y_train, cv=10, scoring = 'accuracy')"
      ],
      "execution_count": 321,
      "outputs": [
        {
          "output_type": "execute_result",
          "data": {
            "text/plain": [
              "array([0.76218905, 0.75024876, 0.75721393, 0.76218905, 0.4039801 ,\n",
              "       0.75621891, 0.77711443, 0.760199  , 0.76218905, 0.76095618])"
            ]
          },
          "metadata": {
            "tags": []
          },
          "execution_count": 321
        }
      ]
    },
    {
      "cell_type": "code",
      "metadata": {
        "id": "m-v5HqAOORZ8"
      },
      "source": [
        "y_train_pred = cross_val_predict(model, X_train, y_train, cv=10)"
      ],
      "execution_count": 322,
      "outputs": []
    },
    {
      "cell_type": "code",
      "metadata": {
        "colab": {
          "base_uri": "https://localhost:8080/"
        },
        "id": "hevyXeI8VuJd",
        "outputId": "b7a5d7d7-9467-4fb9-fd49-7aea4de932b3"
      },
      "source": [
        "from sklearn.metrics import confusion_matrix\n",
        "confusion_matrix(y_train, y_train_pred)"
      ],
      "execution_count": 323,
      "outputs": [
        {
          "output_type": "execute_result",
          "data": {
            "text/plain": [
              "array([[6585, 1074],\n",
              "       [1724,  666]])"
            ]
          },
          "metadata": {
            "tags": []
          },
          "execution_count": 323
        }
      ]
    },
    {
      "cell_type": "code",
      "metadata": {
        "colab": {
          "base_uri": "https://localhost:8080/"
        },
        "id": "NdL3RG2KWPFN",
        "outputId": "94533f8c-ef18-4cb3-f292-6e50684ff761"
      },
      "source": [
        " from sklearn.metrics import precision_score, recall_score\n",
        " precision_score(y_train, y_train_pred)"
      ],
      "execution_count": 324,
      "outputs": [
        {
          "output_type": "execute_result",
          "data": {
            "text/plain": [
              "0.38275862068965516"
            ]
          },
          "metadata": {
            "tags": []
          },
          "execution_count": 324
        }
      ]
    },
    {
      "cell_type": "code",
      "metadata": {
        "colab": {
          "base_uri": "https://localhost:8080/"
        },
        "id": "12TKcCDRWWJ4",
        "outputId": "192d8c78-f2dd-4b2f-bef5-92dc06b43202"
      },
      "source": [
        "recall_score(y_train, y_train_pred)"
      ],
      "execution_count": 325,
      "outputs": [
        {
          "output_type": "execute_result",
          "data": {
            "text/plain": [
              "0.27866108786610877"
            ]
          },
          "metadata": {
            "tags": []
          },
          "execution_count": 325
        }
      ]
    },
    {
      "cell_type": "code",
      "metadata": {
        "colab": {
          "base_uri": "https://localhost:8080/"
        },
        "id": "Eh-ovba9WYZn",
        "outputId": "e5193a00-adc2-4af7-e866-5542956a2755"
      },
      "source": [
        "from sklearn.metrics import f1_score\n",
        "f1_score(y_train, y_train_pred)"
      ],
      "execution_count": 326,
      "outputs": [
        {
          "output_type": "execute_result",
          "data": {
            "text/plain": [
              "0.3225181598062954"
            ]
          },
          "metadata": {
            "tags": []
          },
          "execution_count": 326
        }
      ]
    },
    {
      "cell_type": "code",
      "metadata": {
        "colab": {
          "base_uri": "https://localhost:8080/"
        },
        "id": "tpa32fqnWeBo",
        "outputId": "a2b42799-41e7-4cbf-ef76-d0aaf6ee9b55"
      },
      "source": [
        "y_scores = model.decision_function(X_test)\n",
        "y_scores"
      ],
      "execution_count": 327,
      "outputs": [
        {
          "output_type": "execute_result",
          "data": {
            "text/plain": [
              "array([-27.4631505 , -67.3711333 ,  42.23804996, ...,  -3.92934259,\n",
              "       136.44720092, 269.64994073])"
            ]
          },
          "metadata": {
            "tags": []
          },
          "execution_count": 327
        }
      ]
    },
    {
      "cell_type": "code",
      "metadata": {
        "id": "ND8X_x74ZWUQ"
      },
      "source": [
        " threshold = 0\n",
        "y_some_digit_pred = (y_scores > threshold)"
      ],
      "execution_count": 328,
      "outputs": []
    },
    {
      "cell_type": "code",
      "metadata": {
        "id": "hqY92XrAYPAI"
      },
      "source": [
        "y_scores = cross_val_predict(model, X_train, y_train, cv=10,\n",
        " method=\"decision_function\")\n"
      ],
      "execution_count": 329,
      "outputs": []
    },
    {
      "cell_type": "code",
      "metadata": {
        "id": "ErxLJp4IYi7j"
      },
      "source": [
        "from sklearn.metrics import precision_recall_curve\n",
        "precisions, recalls, thresholds = precision_recall_curve(y_train, y_scores)\n"
      ],
      "execution_count": 330,
      "outputs": []
    },
    {
      "cell_type": "code",
      "metadata": {
        "colab": {
          "base_uri": "https://localhost:8080/",
          "height": 265
        },
        "id": "_w4kdbUIYmj3",
        "outputId": "0337b1db-24bb-48bb-8618-8d94342ab96c"
      },
      "source": [
        "import matplotlib.pyplot as plt\n",
        "def plot_precision_recall_vs_threshold(precisions, recalls, thresholds):\n",
        " plt.plot(thresholds, precisions[:-1], \"b--\", label=\"Precision\")\n",
        " plt.plot(thresholds, recalls[:-1], \"g-\", label=\"Recall\")\n",
        " [...] # highlight the threshold, add the legend, axis label and grid\n",
        "plot_precision_recall_vs_threshold(precisions, recalls, thresholds)\n",
        "plt.show()\n"
      ],
      "execution_count": 331,
      "outputs": [
        {
          "output_type": "display_data",
          "data": {
            "image/png": "[encoded data removed]",
            "text/plain": [
              "<Figure size 432x288 with 1 Axes>"
            ]
          },
          "metadata": {
            "tags": [],
            "needs_background": "light"
          }
        }
      ]
    },
    {
      "cell_type": "code",
      "metadata": {
        "id": "FqdoI3KKa0SB"
      },
      "source": [
        "from sklearn.metrics import roc_curve\n",
        "fpr, tpr, thresholds = roc_curve(y_train, y_scores)"
      ],
      "execution_count": 332,
      "outputs": []
    },
    {
      "cell_type": "code",
      "metadata": {
        "colab": {
          "base_uri": "https://localhost:8080/",
          "height": 265
        },
        "id": "rdSnMWvBa19F",
        "outputId": "79dfda33-7549-4c5e-e53b-1f6e4f716e4d"
      },
      "source": [
        "def plot_roc_curve(fpr, tpr, label=None):\n",
        " plt.plot(fpr, tpr, linewidth=2, label=label)\n",
        " plt.plot([0, 1], [0, 1], 'k--') # dashed diagonal\n",
        " [...] # Add axis labels and grid\n",
        "plot_roc_curve(fpr, tpr)\n",
        "plt.show()\n"
      ],
      "execution_count": 333,
      "outputs": [
        {
          "output_type": "display_data",
          "data": {
            "image/png": "[encoded data removed]",
            "text/plain": [
              "<Figure size 432x288 with 1 Axes>"
            ]
          },
          "metadata": {
            "tags": [],
            "needs_background": "light"
          }
        }
      ]
    },
    {
      "cell_type": "code",
      "metadata": {
        "colab": {
          "base_uri": "https://localhost:8080/"
        },
        "id": "nkLPEeKIcEb_",
        "outputId": "74edeb40-fa79-4962-bae8-0eb394806504"
      },
      "source": [
        "from sklearn.metrics import roc_auc_score\n",
        "roc_auc_score(y_train, y_scores)\n"
      ],
      "execution_count": 334,
      "outputs": [
        {
          "output_type": "execute_result",
          "data": {
            "text/plain": [
              "0.6188736854008821"
            ]
          },
          "metadata": {
            "tags": []
          },
          "execution_count": 334
        }
      ]
    }
  ]
}